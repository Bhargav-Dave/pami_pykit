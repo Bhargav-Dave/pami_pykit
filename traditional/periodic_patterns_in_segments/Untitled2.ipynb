{
 "cells": [
  {
   "cell_type": "code",
   "execution_count": 3,
   "metadata": {},
   "outputs": [],
   "source": [
    "outfile='fin_op#3'\n",
    "lines=[]\n",
    "with open(outfile, 'r') as r:\n",
    "        for line in r:\n",
    "            pattern = line.replace(\"'\", \"\")\n",
    "            lines.append(pattern)\n",
    "#             r.write('%s \\n'%str(pattern))\n",
    "r.close()"
   ]
  },
  {
   "cell_type": "code",
   "execution_count": 4,
   "metadata": {},
   "outputs": [],
   "source": [
    "with open(outfile, 'w') as f:\n",
    "        for x in lines:\n",
    "            f.write('%s'%str(x))\n",
    "f.close()"
   ]
  },
  {
   "cell_type": "code",
   "execution_count": null,
   "metadata": {},
   "outputs": [],
   "source": []
  }
 ],
 "metadata": {
  "kernelspec": {
   "display_name": "Python 3",
   "language": "python",
   "name": "python3"
  },
  "language_info": {
   "codemirror_mode": {
    "name": "ipython",
    "version": 3
   },
   "file_extension": ".py",
   "mimetype": "text/x-python",
   "name": "python",
   "nbconvert_exporter": "python",
   "pygments_lexer": "ipython3",
   "version": "3.7.3"
  }
 },
 "nbformat": 4,
 "nbformat_minor": 2
}

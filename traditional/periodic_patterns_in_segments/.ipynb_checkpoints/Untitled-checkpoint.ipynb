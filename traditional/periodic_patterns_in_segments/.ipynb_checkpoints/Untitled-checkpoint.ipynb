{
 "cells": [
  {
   "cell_type": "code",
   "execution_count": 40,
   "metadata": {},
   "outputs": [],
   "source": [
    "import re"
   ]
  },
  {
   "cell_type": "code",
   "execution_count": 44,
   "metadata": {},
   "outputs": [],
   "source": [
    "s='([a],abc)'\n",
    "outfile= 'final_op'\n",
    "outfile1='fin_op#'\n",
    "lines=[]\n",
    "with open(outfile, 'r') as r:\n",
    "        for line in r:\n",
    "            val=line.split('(', 1)[1].split(')')[0]\n",
    "            z=val.split('[', 1)[1].split(']')\n",
    "            pattern=z[0]+z[1]\n",
    "            pattern = pattern.replace(\",\", \"\")\n",
    "\n",
    "            lines.append(pattern)\n",
    "#             r.write('%s \\n'%str(pattern))\n",
    "r.close()"
   ]
  },
  {
   "cell_type": "code",
   "execution_count": 45,
   "metadata": {},
   "outputs": [
    {
     "name": "stdout",
     "output_type": "stream",
     "text": [
      "([a],abc)\n",
      "['[a],abc', '']\n"
     ]
    }
   ],
   "source": [
    "val = s.split('(', 1)[1].split(')')\n",
    "print(s)\n",
    "print(val)"
   ]
  },
  {
   "cell_type": "code",
   "execution_count": 46,
   "metadata": {},
   "outputs": [],
   "source": [
    "with open(outfile1, 'w') as f:\n",
    "        for x in lines:\n",
    "            f.write('%s \\n'%str(x))\n",
    "f.close()"
   ]
  },
  {
   "cell_type": "code",
   "execution_count": null,
   "metadata": {},
   "outputs": [],
   "source": []
  }
 ],
 "metadata": {
  "kernelspec": {
   "display_name": "Python 3",
   "language": "python",
   "name": "python3"
  },
  "language_info": {
   "codemirror_mode": {
    "name": "ipython",
    "version": 3
   },
   "file_extension": ".py",
   "mimetype": "text/x-python",
   "name": "python",
   "nbconvert_exporter": "python",
   "pygments_lexer": "ipython3",
   "version": "3.7.3"
  }
 },
 "nbformat": 4,
 "nbformat_minor": 2
}

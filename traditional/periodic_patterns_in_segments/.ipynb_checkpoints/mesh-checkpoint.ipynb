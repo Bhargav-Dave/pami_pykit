{
 "cells": [
  {
   "cell_type": "code",
   "execution_count": 1,
   "metadata": {},
   "outputs": [],
   "source": [
    "from jpmesh import parse_mesh_code"
   ]
  },
  {
   "cell_type": "code",
   "execution_count": 2,
   "metadata": {},
   "outputs": [],
   "source": [
    "val=[]\n",
    "input1='fin_op#2'\n",
    "fout='fin_op#3'\n",
    "lines=[]\n",
    "with open(input1,'r') as k:\n",
    "    for line in k:\n",
    "        lines.append(line)\n",
    "        li=line.split()\n",
    "        val.append(li)"
   ]
  },
  {
   "cell_type": "code",
   "execution_count": 4,
   "metadata": {},
   "outputs": [],
   "source": [
    "# outfile=sys.argv[2]\n",
    "kq=1\n",
    "with open(fout, 'w') as f:\n",
    "    for i in range(len(lines)):\n",
    "        for m in val[i]:\n",
    "            mesh = parse_mesh_code(m)\n",
    "            mesh_center = mesh.south_west + (mesh.size / 2.0)\n",
    "            x=(mesh_center.lon.degree,mesh_center.lat.degree)\n",
    "            n_w=(str(mesh.south_west.lon.degree)+' '+str(mesh.south_west.lat.degree),str(mesh.south_west.lon.degree)+' '+str(mesh.south_west.lat.degree+mesh.size.lat.degree),str(mesh.south_west.lon.degree+mesh.size.lon.degree)+' '+str(mesh.south_west.lat.degree+mesh.size.lat.degree),str(mesh.south_west.lon.degree+mesh.size.lon.degree)+' '+str(mesh.south_west.lat.degree),str(mesh.south_west.lon.degree)+' '+str(mesh.south_west.lat.degree))\n",
    "#             borders=(s_w,s_e,n_e,n_w,s_w)\n",
    "#             print(borders)\n",
    "#             print(lines[i].rstrip())\n",
    "            f.write('%s'%m.rstrip())\n",
    "            f.write('\\t%s'%kq)\n",
    "            f.write('\\t%s'%str(n_w))\n",
    "#             f.write(' %s'%str(x))\n",
    "            f.write('\\n')\n",
    "        kq+=1\n",
    "    f.close()"
   ]
  },
  {
   "cell_type": "code",
   "execution_count": null,
   "metadata": {},
   "outputs": [],
   "source": []
  }
 ],
 "metadata": {
  "kernelspec": {
   "display_name": "Python 3",
   "language": "python",
   "name": "python3"
  },
  "language_info": {
   "codemirror_mode": {
    "name": "ipython",
    "version": 3
   },
   "file_extension": ".py",
   "mimetype": "text/x-python",
   "name": "python",
   "nbconvert_exporter": "python",
   "pygments_lexer": "ipython3",
   "version": "3.7.3"
  }
 },
 "nbformat": 4,
 "nbformat_minor": 2
}

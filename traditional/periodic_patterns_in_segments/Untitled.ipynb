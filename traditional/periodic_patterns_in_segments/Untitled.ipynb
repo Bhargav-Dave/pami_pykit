{
 "cells": [
  {
   "cell_type": "code",
   "execution_count": 4,
   "metadata": {},
   "outputs": [],
   "source": []
  },
  {
   "cell_type": "code",
   "execution_count": 13,
   "metadata": {},
   "outputs": [],
   "source": [
    "def modify_op(file1):\n",
    "    outfile= file\n",
    "    lines=[]\n",
    "    with open(outfile, 'r') as r:\n",
    "        for line in r:\n",
    "            val=line.split('(', 1)[1].split(')')[0]\n",
    "            z=val.split('[', 1)[1].split(']')\n",
    "            pattern=z[0]+z[1]\n",
    "            pattern = pattern.replace(\",\", \"\")\n",
    "            lines.append(pattern)\n",
    "#             r.write('%s \\n'%str(pattern))\n",
    "    r.close()\n",
    "    with open(outfile, 'w') as f:\n",
    "        for x in lines:\n",
    "            f.write('%s \\n'%str(x).replace(\"'\",\"\"))\n",
    "    f.close()"
   ]
  },
  {
   "cell_type": "code",
   "execution_count": 14,
   "metadata": {},
   "outputs": [],
   "source": []
  },
  {
   "cell_type": "code",
   "execution_count": 7,
   "metadata": {},
   "outputs": [],
   "source": []
  },
  {
   "cell_type": "code",
   "execution_count": null,
   "metadata": {},
   "outputs": [],
   "source": []
  }
 ],
 "metadata": {
  "kernelspec": {
   "display_name": "Python 3",
   "language": "python",
   "name": "python3"
  },
  "language_info": {
   "codemirror_mode": {
    "name": "ipython",
    "version": 3
   },
   "file_extension": ".py",
   "mimetype": "text/x-python",
   "name": "python",
   "nbconvert_exporter": "python",
   "pygments_lexer": "ipython3",
   "version": "3.7.3"
  }
 },
 "nbformat": 4,
 "nbformat_minor": 2
}
